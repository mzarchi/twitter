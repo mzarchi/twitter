{
 "cells": [
  {
   "cell_type": "code",
   "execution_count": 1,
   "metadata": {},
   "outputs": [],
   "source": [
    "import config as cf\n",
    "import tbotapi as ta\n",
    "import time\n",
    "api = cf.api()"
   ]
  },
  {
   "cell_type": "code",
   "execution_count": 3,
   "metadata": {},
   "outputs": [],
   "source": [
    "username = \"ZarchiMohammad\"\n",
    "following_ids = api.get_friend_ids(screen_name=username)"
   ]
  },
  {
   "cell_type": "code",
   "execution_count": 4,
   "metadata": {},
   "outputs": [],
   "source": [
    "message_limit = 1\n",
    "message_part = 1\n",
    "tbot_message = f\"Message part {message_part}\\n\"\n",
    "for id in following_ids:\n",
    "    if message_limit == 50:\n",
    "        ta.send_message(chat_id='441660894', text=tbot_message)\n",
    "        message_limit = 1\n",
    "        message_part += 1\n",
    "        tbot_message = f\"Message part {message_part}\\n\"\n",
    "        time.sleep(1)\n",
    "\n",
    "    tbot_message += f\"{message_limit}. <a href='https://t.me/TwitterProfileBot?start={id}'>{id}</a> \\n\"\n",
    "    message_limit += 1\n"
   ]
  }
 ],
 "metadata": {
  "kernelspec": {
   "display_name": "Python 3",
   "language": "python",
   "name": "python3"
  },
  "language_info": {
   "codemirror_mode": {
    "name": "ipython",
    "version": 3
   },
   "file_extension": ".py",
   "mimetype": "text/x-python",
   "name": "python",
   "nbconvert_exporter": "python",
   "pygments_lexer": "ipython3",
   "version": "3.10.6"
  },
  "orig_nbformat": 4
 },
 "nbformat": 4,
 "nbformat_minor": 2
}
